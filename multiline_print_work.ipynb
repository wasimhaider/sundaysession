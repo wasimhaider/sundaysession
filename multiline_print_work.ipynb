{
 "cells": [
  {
   "cell_type": "code",
   "execution_count": 1,
   "metadata": {},
   "outputs": [
    {
     "name": "stdout",
     "output_type": "stream",
     "text": [
      "Wasim Haider\n"
     ]
    }
   ],
   "source": [
    "print ('Wasim Haider')"
   ]
  },
  {
   "cell_type": "code",
   "execution_count": 41,
   "metadata": {},
   "outputs": [
    {
     "name": "stdout",
     "output_type": "stream",
     "text": [
      "What is your name? Shahezada\n",
      "Where are you from? Dubai \n",
      " What is you name and how may help, Shahezada \n",
      "Which city you are from, Dubai \n",
      "\n"
     ]
    }
   ],
   "source": [
    "name = input('What is your name? ')\n",
    "city = input ('Where are you from? ')\n",
    "print (''' What is you name and how may help, {} \n",
    "Which city you are from, {}\n",
    "''' .format (name, city))"
   ]
  },
  {
   "cell_type": "code",
   "execution_count": 48,
   "metadata": {},
   "outputs": [
    {
     "name": "stdout",
     "output_type": "stream",
     "text": [
      "what is you age20\n",
      "what is your nameWasim\n",
      "please provide city nameMumbai\n",
      "-------------------\n",
      "My name is Wasim\n",
      "I lived in Mumbai\n",
      "I'm 20 year old\n",
      "-----------------------------\n",
      "\n",
      "\n"
     ]
    }
   ],
   "source": [
    "age = input('what is you age')\n",
    "name = input('what is your name')\n",
    "add = input('please provide city name')\n",
    "\n",
    "print ('''-------------------\n",
    "My name is {}\n",
    "I lived in {}\n",
    "I'm {} year old\n",
    "-----------------------------\n",
    "\n",
    "''' .format(name, add, age))\n"
   ]
  },
  {
   "cell_type": "code",
   "execution_count": 2,
   "metadata": {},
   "outputs": [
    {
     "name": "stdout",
     "output_type": "stream",
     "text": [
      "Please enter a number5\n",
      "The cube of the number is :- 5 = 125\n"
     ]
    }
   ],
   "source": [
    "number = int(input('Please enter a number'))\n",
    "cube = number **3\n",
    "\n",
    "print (\"The cube of the number is :- {} = {}\" .format (number,cube))"
   ]
  }
 ],
 "metadata": {
  "kernelspec": {
   "display_name": "Python 3",
   "language": "python",
   "name": "python3"
  },
  "language_info": {
   "codemirror_mode": {
    "name": "ipython",
    "version": 3
   },
   "file_extension": ".py",
   "mimetype": "text/x-python",
   "name": "python",
   "nbconvert_exporter": "python",
   "pygments_lexer": "ipython3",
   "version": "3.7.3"
  },
  "widgets": {
   "application/vnd.jupyter.widget-state+json": {
    "state": {},
    "version_major": 2,
    "version_minor": 0
   }
  }
 },
 "nbformat": 4,
 "nbformat_minor": 2
}
